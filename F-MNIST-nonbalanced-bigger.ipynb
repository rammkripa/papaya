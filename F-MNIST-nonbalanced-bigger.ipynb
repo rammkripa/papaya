{
 "cells": [
  {
   "cell_type": "markdown",
   "id": "irish-poker",
   "metadata": {},
   "source": [
    "## Fashion MNIST Non Balanced Dataset with Bigger Model"
   ]
  },
  {
   "cell_type": "code",
   "execution_count": 1,
   "id": "encouraging-butterfly",
   "metadata": {},
   "outputs": [],
   "source": [
    "import torch\n",
    "import torchvision\n",
    "\n",
    "import numpy as np\n",
    "import math"
   ]
  },
  {
   "cell_type": "code",
   "execution_count": 2,
   "id": "surprising-springfield",
   "metadata": {},
   "outputs": [],
   "source": [
    "mnist_trainset = torchvision.datasets.FashionMNIST(root='./data', train=True, download=True, transform=torchvision.transforms.Compose([\n",
    "                               torchvision.transforms.ToTensor(),\n",
    "                               torchvision.transforms.Normalize(\n",
    "                                 (0.5,), (0.5,))\n",
    "                             ]))\n",
    "mnist_testset = torchvision.datasets.FashionMNIST(root='./data', train=False, download=True, transform=torchvision.transforms.Compose([\n",
    "                               torchvision.transforms.ToTensor(),\n",
    "                               torchvision.transforms.Normalize(\n",
    "                                 (0.5,), (0.5,))\n",
    "                             ]))"
   ]
  },
  {
   "cell_type": "code",
   "execution_count": 3,
   "id": "understanding-prisoner",
   "metadata": {},
   "outputs": [],
   "source": [
    "## Parameters:\n",
    "n_epochs = 3\n",
    "batch_size_train = 10000\n",
    "batch_size_test = 500\n",
    "log_interval = 500"
   ]
  },
  {
   "cell_type": "code",
   "execution_count": 4,
   "id": "spread-brief",
   "metadata": {},
   "outputs": [],
   "source": [
    "train_loader = torch.utils.data.DataLoader(mnist_trainset,batch_size=batch_size_train, shuffle=True)\n",
    "test_loader = torch.utils.data.DataLoader(mnist_testset,batch_size=batch_size_test, shuffle=False)"
   ]
  },
  {
   "cell_type": "code",
   "execution_count": 5,
   "id": "auburn-supply",
   "metadata": {},
   "outputs": [],
   "source": [
    "import papayaclient"
   ]
  },
  {
   "cell_type": "code",
   "execution_count": 6,
   "id": "frozen-custody",
   "metadata": {},
   "outputs": [],
   "source": [
    "class TheModel(torch.nn.Module):\n",
    "\n",
    "    def __init__(self):\n",
    "        super(TheModel, self).__init__()\n",
    "\n",
    "        self.linear1 = torch.nn.Linear(784, 784)\n",
    "        self.linear2 = torch.nn.Linear(784, 49)\n",
    "        self.linear3 = torch.nn.Linear(49, 10)\n",
    "        self.relu = torch.nn.ReLU()\n",
    "\n",
    "    def forward(self, x):\n",
    "        x1 = x.flatten(start_dim = 1)\n",
    "        return self.linear3(self.relu(self.linear2(self.relu(self.linear1(x1)))))"
   ]
  },
  {
   "cell_type": "code",
   "execution_count": 7,
   "id": "returning-split",
   "metadata": {},
   "outputs": [],
   "source": [
    "clients = []\n",
    "list_of_data = []\n",
    "list_of_labels = []\n",
    "for batchno, (ex_data, ex_labels) in enumerate(train_loader):\n",
    "    list_of_data.append(ex_data)\n",
    "    list_of_labels.append(ex_labels)\n",
    "data, labels = torch.cat(list_of_data), torch.cat(list_of_labels)\n",
    "np.random.seed(42)\n",
    "idx = [0] + sorted(np.random.choice(59999, 5, replace=False)+1) + [60000]\n",
    "for i in range(6):\n",
    "    ex_data = data[idx[i]:idx[i+1]]\n",
    "    ex_labels = labels[idx[i]:idx[i+1]]\n",
    "    clients.append(papayaclient.PapayaClient(dat = ex_data,\n",
    "                                        labs = ex_labels,\n",
    "                                        batch_sz = 500,\n",
    "                                        num_partners = 5,\n",
    "                                        model_class = TheModel,\n",
    "                                        loss_fn = torch.nn.CrossEntropyLoss))"
   ]
  },
  {
   "cell_type": "code",
   "execution_count": 8,
   "id": "wrapped-netscape",
   "metadata": {},
   "outputs": [],
   "source": [
    "## Train the Nodes\n",
    "num_epochs_total = 100\n",
    "num_epochs_per_swap = 5\n",
    "num_times = (num_epochs_total // num_epochs_per_swap)\n",
    "for i in range(0, num_times):\n",
    "    for n in clients:\n",
    "        for j in range(0, num_epochs_per_swap):\n",
    "            n.model_train_epoch()\n",
    "    if i > 1 and i < num_times - 1 :\n",
    "        for n in clients:\n",
    "            n.select_partners(3)\n",
    "        for n in clients:\n",
    "            for i in range(0, 4) :\n",
    "                n.update_partner_weights()\n",
    "            n.average_partners()"
   ]
  },
  {
   "cell_type": "code",
   "execution_count": 9,
   "id": "manual-paragraph",
   "metadata": {},
   "outputs": [
    {
     "name": "stdout",
     "output_type": "stream",
     "text": [
      "node1299epoch 99 loss 0.5508126616477966\n",
      "node450epoch 99 loss 0.6423541903495789\n",
      "node1028epoch 99 loss 0.45660585165023804\n",
      "node4568epoch 99 loss 0.5289923548698425\n",
      "node54epoch 99 loss 0.6246896386146545\n",
      "node667epoch 99 loss 0.7216795086860657\n"
     ]
    }
   ],
   "source": [
    "for c in clients :\n",
    "    print(c.logs['stringy'][99])"
   ]
  },
  {
   "cell_type": "code",
   "execution_count": 10,
   "id": "standing-layer",
   "metadata": {},
   "outputs": [],
   "source": [
    "accuracies = {}\n",
    "with torch.no_grad():\n",
    "    for i in clients :\n",
    "        accuracies_node = []\n",
    "        for batchno, (ex_data, ex_labels) in enumerate(test_loader) :\n",
    "            accuracies_node.append(((i.model.forward(ex_data).argmax(dim = 1) == ex_labels).float().mean()).item())\n",
    "        accuracies[i.node_id] = np.array(accuracies_node).mean()"
   ]
  },
  {
   "cell_type": "code",
   "execution_count": 11,
   "id": "environmental-greece",
   "metadata": {},
   "outputs": [
    {
     "data": {
      "text/plain": [
       "{1299: 0.7859000027179718,\n",
       " 450: 0.7697999984025955,\n",
       " 1028: 0.7861999928951263,\n",
       " 4568: 0.7934000015258789,\n",
       " 54: 0.7844999998807907,\n",
       " 667: 0.7842999935150147}"
      ]
     },
     "execution_count": 11,
     "metadata": {},
     "output_type": "execute_result"
    }
   ],
   "source": [
    "accuracies"
   ]
  },
  {
   "cell_type": "code",
   "execution_count": null,
   "id": "adjusted-basics",
   "metadata": {},
   "outputs": [],
   "source": []
  }
 ],
 "metadata": {
  "kernelspec": {
   "display_name": "Python 3",
   "language": "python",
   "name": "python3"
  },
  "language_info": {
   "codemirror_mode": {
    "name": "ipython",
    "version": 3
   },
   "file_extension": ".py",
   "mimetype": "text/x-python",
   "name": "python",
   "nbconvert_exporter": "python",
   "pygments_lexer": "ipython3",
   "version": "3.8.8"
  }
 },
 "nbformat": 4,
 "nbformat_minor": 5
}
