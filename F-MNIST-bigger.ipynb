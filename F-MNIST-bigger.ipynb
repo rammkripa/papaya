{
 "cells": [
  {
   "cell_type": "markdown",
   "id": "standing-spyware",
   "metadata": {},
   "source": [
    "## Fashion MNIST Bigger Model"
   ]
  },
  {
   "cell_type": "code",
   "execution_count": 1,
   "id": "dying-peninsula",
   "metadata": {},
   "outputs": [],
   "source": [
    "import torch\n",
    "import torchvision\n",
    "\n",
    "import numpy as np\n",
    "import math"
   ]
  },
  {
   "cell_type": "code",
   "execution_count": 2,
   "id": "diagnostic-rebel",
   "metadata": {},
   "outputs": [],
   "source": [
    "mnist_trainset = torchvision.datasets.FashionMNIST(root='./data', train=True, download=True, transform=torchvision.transforms.Compose([\n",
    "                               torchvision.transforms.ToTensor(),\n",
    "                               torchvision.transforms.Normalize(\n",
    "                                 (0.5,), (0.5,))\n",
    "                             ]))\n",
    "mnist_testset = torchvision.datasets.FashionMNIST(root='./data', train=False, download=True, transform=torchvision.transforms.Compose([\n",
    "                               torchvision.transforms.ToTensor(),\n",
    "                               torchvision.transforms.Normalize(\n",
    "                                 (0.5,), (0.5,))\n",
    "                             ]))"
   ]
  },
  {
   "cell_type": "code",
   "execution_count": 3,
   "id": "another-jewelry",
   "metadata": {},
   "outputs": [],
   "source": [
    "## Parameters:\n",
    "n_epochs = 3\n",
    "batch_size_train = 10000\n",
    "batch_size_test = 500\n",
    "log_interval = 500"
   ]
  },
  {
   "cell_type": "code",
   "execution_count": 4,
   "id": "acknowledged-absence",
   "metadata": {},
   "outputs": [],
   "source": [
    "train_loader = torch.utils.data.DataLoader(mnist_trainset,batch_size=batch_size_train, shuffle=True)\n",
    "test_loader = torch.utils.data.DataLoader(mnist_testset,batch_size=batch_size_test, shuffle=False)"
   ]
  },
  {
   "cell_type": "code",
   "execution_count": 5,
   "id": "tested-surname",
   "metadata": {},
   "outputs": [],
   "source": [
    "import papayaclient"
   ]
  },
  {
   "cell_type": "code",
   "execution_count": 6,
   "id": "honest-pixel",
   "metadata": {},
   "outputs": [],
   "source": [
    "class TheModel(torch.nn.Module):\n",
    "\n",
    "    def __init__(self):\n",
    "        super(TheModel, self).__init__()\n",
    "\n",
    "        self.linear1 = torch.nn.Linear(784, 784)\n",
    "        self.linear2 = torch.nn.Linear(784, 49)\n",
    "        self.linear3 = torch.nn.Linear(49, 10)\n",
    "        self.relu = torch.nn.ReLU()\n",
    "\n",
    "    def forward(self, x):\n",
    "        x1 = x.flatten(start_dim = 1)\n",
    "        return self.linear3(self.relu(self.linear2(self.relu(self.linear1(x1)))))"
   ]
  },
  {
   "cell_type": "code",
   "execution_count": 7,
   "id": "indian-excess",
   "metadata": {},
   "outputs": [],
   "source": [
    "clients = []\n",
    "for batchno, (ex_data, ex_labels) in enumerate(train_loader):\n",
    "    clients.append(papayaclient.PapayaClient(dat = ex_data,\n",
    "                                            labs = ex_labels,\n",
    "                                            batch_sz = 500,\n",
    "                                            num_partners = 5,\n",
    "                                            model_class = TheModel,\n",
    "                                            loss_fn = torch.nn.CrossEntropyLoss))"
   ]
  },
  {
   "cell_type": "code",
   "execution_count": 8,
   "id": "described-immune",
   "metadata": {},
   "outputs": [],
   "source": [
    "## Train the Nodes\n",
    "num_epochs_total = 100\n",
    "num_epochs_per_swap = 5\n",
    "num_times = (num_epochs_total // num_epochs_per_swap)\n",
    "for i in range(0, num_times):\n",
    "    for n in clients:\n",
    "        for j in range(0, num_epochs_per_swap):\n",
    "            n.model_train_epoch()\n",
    "    if i > 1 and i < num_times - 1 :\n",
    "        for n in clients:\n",
    "            n.select_partners(3)\n",
    "        for n in clients:\n",
    "            for i in range(0, 4) :\n",
    "                n.update_partner_weights()\n",
    "            n.average_partners()"
   ]
  },
  {
   "cell_type": "code",
   "execution_count": 9,
   "id": "boolean-ending",
   "metadata": {},
   "outputs": [
    {
     "name": "stdout",
     "output_type": "stream",
     "text": [
      "node3595epoch 99 loss 0.5863599181175232\n",
      "node1132epoch 99 loss 0.6152874827384949\n",
      "node4662epoch 99 loss 0.6075997352600098\n",
      "node2216epoch 99 loss 0.5464377403259277\n",
      "node1393epoch 99 loss 0.596982479095459\n",
      "node927epoch 99 loss 0.5901655554771423\n"
     ]
    }
   ],
   "source": [
    "for c in clients :\n",
    "    print(c.logs['stringy'][99])"
   ]
  },
  {
   "cell_type": "code",
   "execution_count": 10,
   "id": "pleased-rough",
   "metadata": {},
   "outputs": [],
   "source": [
    "accuracies = {}\n",
    "with torch.no_grad():\n",
    "    for i in clients :\n",
    "        accuracies_node = []\n",
    "        for batchno, (ex_data, ex_labels) in enumerate(test_loader) :\n",
    "            accuracies_node.append(((i.model.forward(ex_data).argmax(dim = 1) == ex_labels).float().mean()).item())\n",
    "        accuracies[i.node_id] = np.array(accuracies_node).mean()"
   ]
  },
  {
   "cell_type": "code",
   "execution_count": 11,
   "id": "dying-macedonia",
   "metadata": {},
   "outputs": [
    {
     "data": {
      "text/plain": [
       "{3595: 0.7794000029563903,\n",
       " 1132: 0.7785000026226043,\n",
       " 4662: 0.7764000028371811,\n",
       " 2216: 0.7787999957799911,\n",
       " 1393: 0.7769999980926514,\n",
       " 927: 0.7764999985694885}"
      ]
     },
     "execution_count": 11,
     "metadata": {},
     "output_type": "execute_result"
    }
   ],
   "source": [
    "accuracies"
   ]
  },
  {
   "cell_type": "code",
   "execution_count": null,
   "id": "tender-fault",
   "metadata": {},
   "outputs": [],
   "source": []
  }
 ],
 "metadata": {
  "kernelspec": {
   "display_name": "Python 3",
   "language": "python",
   "name": "python3"
  },
  "language_info": {
   "codemirror_mode": {
    "name": "ipython",
    "version": 3
   },
   "file_extension": ".py",
   "mimetype": "text/x-python",
   "name": "python",
   "nbconvert_exporter": "python",
   "pygments_lexer": "ipython3",
   "version": "3.8.8"
  }
 },
 "nbformat": 4,
 "nbformat_minor": 5
}
