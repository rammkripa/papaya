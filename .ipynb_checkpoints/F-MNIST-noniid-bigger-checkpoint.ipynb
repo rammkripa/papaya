{
 "cells": [
  {
   "cell_type": "markdown",
   "id": "prerequisite-citizen",
   "metadata": {},
   "source": [
    "## Fashion MNIST Non IID Dataset with Bigger Model"
   ]
  },
  {
   "cell_type": "code",
   "execution_count": 1,
   "id": "pointed-retro",
   "metadata": {},
   "outputs": [],
   "source": [
    "import torch\n",
    "import torchvision\n",
    "\n",
    "import numpy as np\n",
    "import math"
   ]
  },
  {
   "cell_type": "code",
   "execution_count": 2,
   "id": "convertible-threshold",
   "metadata": {},
   "outputs": [],
   "source": [
    "mnist_trainset = torchvision.datasets.FashionMNIST(root='./data', train=True, download=True, transform=torchvision.transforms.Compose([\n",
    "                               torchvision.transforms.ToTensor(),\n",
    "                               torchvision.transforms.Normalize(\n",
    "                                 (0.5,), (0.5,))\n",
    "                             ]))\n",
    "mnist_testset = torchvision.datasets.FashionMNIST(root='./data', train=False, download=True, transform=torchvision.transforms.Compose([\n",
    "                               torchvision.transforms.ToTensor(),\n",
    "                               torchvision.transforms.Normalize(\n",
    "                                 (0.5,), (0.5,))\n",
    "                             ]))"
   ]
  },
  {
   "cell_type": "code",
   "execution_count": 3,
   "id": "ranging-virus",
   "metadata": {},
   "outputs": [],
   "source": [
    "## Parameters:\n",
    "n_epochs = 3\n",
    "batch_size_train = 10000\n",
    "batch_size_test = 500\n",
    "log_interval = 500"
   ]
  },
  {
   "cell_type": "code",
   "execution_count": 4,
   "id": "cardiovascular-lesbian",
   "metadata": {},
   "outputs": [],
   "source": [
    "train_loader = torch.utils.data.DataLoader(mnist_trainset,batch_size=batch_size_train, shuffle=True)\n",
    "test_loader = torch.utils.data.DataLoader(mnist_testset,batch_size=batch_size_test, shuffle=False)"
   ]
  },
  {
   "cell_type": "code",
   "execution_count": 5,
   "id": "compatible-assumption",
   "metadata": {},
   "outputs": [],
   "source": [
    "import papayaclient"
   ]
  },
  {
   "cell_type": "code",
   "execution_count": 6,
   "id": "amazing-silicon",
   "metadata": {},
   "outputs": [],
   "source": [
    "class TheModel(torch.nn.Module):\n",
    "\n",
    "    def __init__(self):\n",
    "        super(TheModel, self).__init__()\n",
    "\n",
    "        self.linear1 = torch.nn.Linear(784, 400)\n",
    "        self.linear2 = torch.nn.Linear(400, 10)\n",
    "        self.relu = torch.nn.ReLU()\n",
    "\n",
    "    def forward(self, x):\n",
    "        x1 = x.flatten(start_dim = 1)\n",
    "        return self.linear2(self.relu(self.linear1(x1)))"
   ]
  },
  {
   "cell_type": "code",
   "execution_count": 7,
   "id": "cathedral-corrections",
   "metadata": {},
   "outputs": [],
   "source": [
    "clients = []\n",
    "list_of_data = []\n",
    "list_of_labels = []\n",
    "for batchno, (ex_data, ex_labels) in enumerate(train_loader):\n",
    "    list_of_data.append(ex_data)\n",
    "    list_of_labels.append(ex_labels)\n",
    "data, labels = torch.cat(list_of_data), torch.cat(list_of_labels)\n",
    "np.random.seed(42)\n",
    "\n",
    "node_data = [[] for _ in range(6)]\n",
    "node_labels = [[] for _ in range(6)]\n",
    "for num in range(9):\n",
    "    data_by_class = data[labels == num]\n",
    "    label_by_class = labels[labels == num]\n",
    "\n",
    "    idx = [0] + sorted(np.random.choice(len(data_by_class)-1, 5, replace=False)+1) + [len(data_by_class)]\n",
    "    for i in range(6):\n",
    "        ex_data = data[idx[i]:idx[i+1]]\n",
    "        ex_labels = labels[idx[i]:idx[i+1]]\n",
    "        node_data[i].append(ex_data)\n",
    "        node_labels[i].append(ex_labels)\n",
    "for i in range(6):\n",
    "    ex_data = torch.cat(node_data[i])\n",
    "    ex_labels = torch.cat(node_labels[i])\n",
    "    rand_idx = torch.randperm(len(ex_data))\n",
    "    ex_data = ex_data[rand_idx]\n",
    "    ex_labels = ex_labels[rand_idx]\n",
    "    clients.append(papayaclient.PapayaClient(dat = ex_data,\n",
    "                                            labs = ex_labels,\n",
    "                                            batch_sz = 500,\n",
    "                                            num_partners = 5,\n",
    "                                            model_class = TheModel,\n",
    "                                            loss_fn = torch.nn.CrossEntropyLoss))"
   ]
  },
  {
   "cell_type": "code",
   "execution_count": 8,
   "id": "structural-person",
   "metadata": {},
   "outputs": [],
   "source": [
    "## Train the Nodes\n",
    "num_epochs_total = 100\n",
    "num_epochs_per_swap = 5\n",
    "num_times = (num_epochs_total // num_epochs_per_swap)\n",
    "for i in range(0, num_times):\n",
    "    for n in clients:\n",
    "        for j in range(0, num_epochs_per_swap):\n",
    "            n.model_train_epoch()\n",
    "    if i > 1 and i < num_times - 1 :\n",
    "        for n in clients:\n",
    "            n.select_partners(3)\n",
    "        for n in clients:\n",
    "            for i in range(0, 4) :\n",
    "                n.update_partner_weights()\n",
    "        n.average_partners()"
   ]
  },
  {
   "cell_type": "code",
   "execution_count": 9,
   "id": "dress-stanford",
   "metadata": {},
   "outputs": [
    {
     "name": "stdout",
     "output_type": "stream",
     "text": [
      "node3303epoch 99 loss 0.406747043132782\n",
      "node4585epoch 99 loss 0.40293437242507935\n",
      "node1239epoch 99 loss 0.40627598762512207\n",
      "node4671epoch 99 loss 0.3970188498497009\n",
      "node1943epoch 99 loss 0.33818477392196655\n",
      "node4803epoch 99 loss 0.6965057253837585\n"
     ]
    }
   ],
   "source": [
    "for c in clients :\n",
    "    print(c.logs['stringy'][99])"
   ]
  },
  {
   "cell_type": "code",
   "execution_count": 10,
   "id": "ready-patient",
   "metadata": {},
   "outputs": [],
   "source": [
    "accuracies = {}\n",
    "with torch.no_grad():\n",
    "    for i in clients :\n",
    "        accuracies_node = []\n",
    "        for batchno, (ex_data, ex_labels) in enumerate(test_loader) :\n",
    "            accuracies_node.append(((i.model.forward(ex_data).argmax(dim = 1) == ex_labels).float().mean()).item())\n",
    "        accuracies[i.node_id] = np.array(accuracies_node).mean()"
   ]
  },
  {
   "cell_type": "code",
   "execution_count": 11,
   "id": "searching-satin",
   "metadata": {},
   "outputs": [
    {
     "data": {
      "text/plain": [
       "{3303: 0.7928000062704086,\n",
       " 4585: 0.8066000014543533,\n",
       " 1239: 0.815200001001358,\n",
       " 4671: 0.8176000058650971,\n",
       " 1943: 0.817700007557869,\n",
       " 4803: 0.7764000028371811}"
      ]
     },
     "execution_count": 11,
     "metadata": {},
     "output_type": "execute_result"
    }
   ],
   "source": [
    "accuracies"
   ]
  },
  {
   "cell_type": "code",
   "execution_count": null,
   "id": "orange-emperor",
   "metadata": {},
   "outputs": [],
   "source": []
  }
 ],
 "metadata": {
  "kernelspec": {
   "display_name": "Python 3",
   "language": "python",
   "name": "python3"
  },
  "language_info": {
   "codemirror_mode": {
    "name": "ipython",
    "version": 3
   },
   "file_extension": ".py",
   "mimetype": "text/x-python",
   "name": "python",
   "nbconvert_exporter": "python",
   "pygments_lexer": "ipython3",
   "version": "3.8.8"
  }
 },
 "nbformat": 4,
 "nbformat_minor": 5
}
