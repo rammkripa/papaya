{
 "cells": [
  {
   "cell_type": "markdown",
   "id": "processed-wagner",
   "metadata": {},
   "source": [
    "## Fashion MNIST Bigger Model"
   ]
  },
  {
   "cell_type": "code",
   "execution_count": 1,
   "id": "textile-damages",
   "metadata": {},
   "outputs": [],
   "source": [
    "import torch\n",
    "import torchvision\n",
    "\n",
    "import numpy as np\n",
    "import math"
   ]
  },
  {
   "cell_type": "code",
   "execution_count": 2,
   "id": "signal-buffalo",
   "metadata": {},
   "outputs": [],
   "source": [
    "mnist_trainset = torchvision.datasets.FashionMNIST(root='./data', train=True, download=True, transform=torchvision.transforms.Compose([\n",
    "                               torchvision.transforms.ToTensor(),\n",
    "                               torchvision.transforms.Normalize(\n",
    "                                 (0.5,), (0.5,))\n",
    "                             ]))\n",
    "mnist_testset = torchvision.datasets.FashionMNIST(root='./data', train=False, download=True, transform=torchvision.transforms.Compose([\n",
    "                               torchvision.transforms.ToTensor(),\n",
    "                               torchvision.transforms.Normalize(\n",
    "                                 (0.5,), (0.5,))\n",
    "                             ]))"
   ]
  },
  {
   "cell_type": "code",
   "execution_count": 3,
   "id": "indirect-technology",
   "metadata": {},
   "outputs": [],
   "source": [
    "## Parameters:\n",
    "n_epochs = 3\n",
    "batch_size_train = 10000\n",
    "batch_size_test = 500\n",
    "log_interval = 500"
   ]
  },
  {
   "cell_type": "code",
   "execution_count": 4,
   "id": "touched-forge",
   "metadata": {},
   "outputs": [],
   "source": [
    "train_loader = torch.utils.data.DataLoader(mnist_trainset,batch_size=batch_size_train, shuffle=True)\n",
    "test_loader = torch.utils.data.DataLoader(mnist_testset,batch_size=batch_size_test, shuffle=False)"
   ]
  },
  {
   "cell_type": "code",
   "execution_count": 5,
   "id": "naval-variation",
   "metadata": {},
   "outputs": [],
   "source": [
    "import papayaclient"
   ]
  },
  {
   "cell_type": "code",
   "execution_count": 6,
   "id": "convertible-drill",
   "metadata": {},
   "outputs": [],
   "source": [
    "class TheModel(torch.nn.Module):\n",
    "\n",
    "    def __init__(self):\n",
    "        super(TheModel, self).__init__()\n",
    "\n",
    "        self.linear1 = torch.nn.Linear(784, 400)\n",
    "        self.linear2 = torch.nn.Linear(400, 10)\n",
    "        self.relu = torch.nn.ReLU()\n",
    "\n",
    "    def forward(self, x):\n",
    "        x1 = x.flatten(start_dim = 1)\n",
    "        return self.linear2(self.relu(self.linear1(x1)))"
   ]
  },
  {
   "cell_type": "code",
   "execution_count": 7,
   "id": "colored-freedom",
   "metadata": {},
   "outputs": [],
   "source": [
    "clients = []\n",
    "for batchno, (ex_data, ex_labels) in enumerate(train_loader):\n",
    "    clients.append(papayaclient.PapayaClient(dat = ex_data,\n",
    "                                            labs = ex_labels,\n",
    "                                            batch_sz = 500,\n",
    "                                            num_partners = 5,\n",
    "                                            model_class = TheModel,\n",
    "                                            loss_fn = torch.nn.CrossEntropyLoss))"
   ]
  },
  {
   "cell_type": "code",
   "execution_count": 8,
   "id": "korean-killing",
   "metadata": {},
   "outputs": [],
   "source": [
    "## Train the Nodes\n",
    "num_epochs_total = 100\n",
    "num_epochs_per_swap = 5\n",
    "num_times = (num_epochs_total // num_epochs_per_swap)\n",
    "for i in range(0, num_times):\n",
    "    for n in clients:\n",
    "        for j in range(0, num_epochs_per_swap):\n",
    "            n.model_train_epoch()\n",
    "    if i > 1 and i < num_times - 1 :\n",
    "        for n in clients:\n",
    "            n.select_partners(3)\n",
    "        for n in clients:\n",
    "            for i in range(0, 4) :\n",
    "                n.update_partner_weights()\n",
    "        n.average_partners()"
   ]
  },
  {
   "cell_type": "code",
   "execution_count": 9,
   "id": "turkish-briefing",
   "metadata": {},
   "outputs": [
    {
     "name": "stdout",
     "output_type": "stream",
     "text": [
      "node809epoch 99 loss 0.4252729117870331\n",
      "node2216epoch 99 loss 0.4714900851249695\n",
      "node1627epoch 99 loss 0.41762667894363403\n",
      "node573epoch 99 loss 0.4530680179595947\n",
      "node686epoch 99 loss 0.5027285218238831\n",
      "node1331epoch 99 loss 0.6989457011222839\n"
     ]
    }
   ],
   "source": [
    "for c in clients :\n",
    "    print(c.logs['stringy'][99])"
   ]
  },
  {
   "cell_type": "code",
   "execution_count": 10,
   "id": "harmful-processor",
   "metadata": {},
   "outputs": [],
   "source": [
    "accuracies = {}\n",
    "with torch.no_grad():\n",
    "    for i in clients :\n",
    "        accuracies_node = []\n",
    "        for batchno, (ex_data, ex_labels) in enumerate(test_loader) :\n",
    "            accuracies_node.append(((i.model.forward(ex_data).argmax(dim = 1) == ex_labels).float().mean()).item())\n",
    "        accuracies[i.node_id] = np.array(accuracies_node).mean()"
   ]
  },
  {
   "cell_type": "code",
   "execution_count": 11,
   "id": "coordinated-conference",
   "metadata": {},
   "outputs": [
    {
     "data": {
      "text/plain": [
       "{809: 0.8228000044822693,\n",
       " 2216: 0.8152999997138977,\n",
       " 1627: 0.8191999971866608,\n",
       " 573: 0.8206000089645386,\n",
       " 686: 0.8198000013828277,\n",
       " 1331: 0.7893999963998795}"
      ]
     },
     "execution_count": 11,
     "metadata": {},
     "output_type": "execute_result"
    }
   ],
   "source": [
    "accuracies"
   ]
  },
  {
   "cell_type": "code",
   "execution_count": null,
   "id": "sticky-mumbai",
   "metadata": {},
   "outputs": [],
   "source": []
  }
 ],
 "metadata": {
  "kernelspec": {
   "display_name": "Python 3",
   "language": "python",
   "name": "python3"
  },
  "language_info": {
   "codemirror_mode": {
    "name": "ipython",
    "version": 3
   },
   "file_extension": ".py",
   "mimetype": "text/x-python",
   "name": "python",
   "nbconvert_exporter": "python",
   "pygments_lexer": "ipython3",
   "version": "3.8.8"
  }
 },
 "nbformat": 4,
 "nbformat_minor": 5
}
