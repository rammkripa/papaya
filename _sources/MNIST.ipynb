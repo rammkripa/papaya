{
 "cells": [
  {
   "cell_type": "markdown",
   "id": "alleged-going",
   "metadata": {},
   "source": [
    "# MNIST Experiment: IID and Balanced Dataset"
   ]
  },
  {
   "cell_type": "code",
   "execution_count": 1,
   "id": "ultimate-copying",
   "metadata": {},
   "outputs": [],
   "source": [
    "import torch\n",
    "import torchvision\n",
    "\n",
    "import numpy as np\n",
    "import math"
   ]
  },
  {
   "cell_type": "markdown",
   "id": "copyrighted-clinic",
   "metadata": {},
   "source": [
    "Loading in the data"
   ]
  },
  {
   "cell_type": "code",
   "execution_count": 2,
   "id": "indoor-substitute",
   "metadata": {},
   "outputs": [],
   "source": [
    "mnist_trainset = torchvision.datasets.MNIST(root='./data', train=True, download=True, transform=torchvision.transforms.Compose([\n",
    "                               torchvision.transforms.ToTensor(),\n",
    "                               torchvision.transforms.Normalize(\n",
    "                                 (0.1307,), (0.3081,))\n",
    "                             ]))\n",
    "mnist_testset = torchvision.datasets.MNIST(root='./data', train=False, download=True, transform=torchvision.transforms.Compose([\n",
    "                               torchvision.transforms.ToTensor(),\n",
    "                               torchvision.transforms.Normalize(\n",
    "                                 (0.1307,), (0.3081,))\n",
    "                             ]))"
   ]
  },
  {
   "cell_type": "markdown",
   "id": "divine-thailand",
   "metadata": {},
   "source": [
    "Setting the hyperparameters"
   ]
  },
  {
   "cell_type": "code",
   "execution_count": 3,
   "id": "apparent-collapse",
   "metadata": {},
   "outputs": [],
   "source": [
    "## Parameters:\n",
    "n_epochs = 3\n",
    "batch_size_train = 10000\n",
    "batch_size_test = 500\n",
    "log_interval = 500"
   ]
  },
  {
   "cell_type": "code",
   "execution_count": 4,
   "id": "bronze-adapter",
   "metadata": {},
   "outputs": [],
   "source": [
    "train_loader = torch.utils.data.DataLoader(mnist_trainset,batch_size=batch_size_train, shuffle=True)\n",
    "test_loader = torch.utils.data.DataLoader(mnist_testset,batch_size=batch_size_test, shuffle=False)"
   ]
  },
  {
   "cell_type": "code",
   "execution_count": 5,
   "id": "normal-cleaner",
   "metadata": {},
   "outputs": [],
   "source": [
    "import papayaclient"
   ]
  },
  {
   "cell_type": "markdown",
   "id": "baking-demonstration",
   "metadata": {},
   "source": [
    "Writing the model class. Here we use a simple two layer FC Net."
   ]
  },
  {
   "cell_type": "code",
   "execution_count": 6,
   "id": "steady-representation",
   "metadata": {},
   "outputs": [],
   "source": [
    "class TheModel(torch.nn.Module):\n",
    "\n",
    "    def __init__(self):\n",
    "        super(TheModel, self).__init__()\n",
    "\n",
    "        self.linear1 = torch.nn.Linear(784, 10)\n",
    "        #self.linear2 = torch.nn.Linear(400, 10)\n",
    "        #self.relu = torch.nn.ReLU()\n",
    "\n",
    "    def forward(self, x):\n",
    "        x1 = x.flatten(start_dim = 1)\n",
    "        return self.linear1(x1)\n",
    "        #return self.linear2(self.relu(self.linear1(x1)))"
   ]
  },
  {
   "cell_type": "markdown",
   "id": "industrial-studio",
   "metadata": {},
   "source": [
    "Creating the clients using papaya"
   ]
  },
  {
   "cell_type": "code",
   "execution_count": 7,
   "id": "tutorial-junior",
   "metadata": {},
   "outputs": [],
   "source": [
    "clients = []\n",
    "for batchno, (ex_data, ex_labels) in enumerate(train_loader):\n",
    "    clients.append(papayaclient.PapayaClient(dat = ex_data,\n",
    "                                            labs = ex_labels,\n",
    "                                            batch_sz = 500,\n",
    "                                            num_partners = 5,\n",
    "                                            model_class = TheModel,\n",
    "                                            loss_fn = torch.nn.CrossEntropyLoss))"
   ]
  },
  {
   "cell_type": "code",
   "execution_count": 8,
   "id": "romance-causing",
   "metadata": {},
   "outputs": [],
   "source": [
    "import random\n",
    "random.shuffle(clients)"
   ]
  },
  {
   "cell_type": "code",
   "execution_count": 9,
   "id": "widespread-blast",
   "metadata": {},
   "outputs": [],
   "source": [
    "## Train the Nodes\n",
    "num_epochs_total = 100\n",
    "num_epochs_per_swap = 5\n",
    "num_times = (num_epochs_total // num_epochs_per_swap)\n",
    "for i in range(0, num_times):\n",
    "    for n in clients:\n",
    "        for j in range(0, num_epochs_per_swap):\n",
    "            n.model_train_epoch()\n",
    "    if i > 1 and i < num_times - 1 :\n",
    "        for n in clients:\n",
    "            n.select_partners(3)\n",
    "        for n in clients:\n",
    "            for i in range(0, 4) :\n",
    "                n.update_partner_weights()\n",
    "            n.average_partners()"
   ]
  },
  {
   "cell_type": "code",
   "execution_count": 10,
   "id": "efficient-present",
   "metadata": {},
   "outputs": [
    {
     "name": "stdout",
     "output_type": "stream",
     "text": [
      "node3010epoch 99 loss 0.2327485978603363\n",
      "node3802epoch 99 loss 0.27158960700035095\n",
      "node3790epoch 99 loss 0.3395092487335205\n",
      "node432epoch 99 loss 0.2874259650707245\n",
      "node2642epoch 99 loss 0.2938651144504547\n",
      "node2787epoch 99 loss 0.3081212043762207\n"
     ]
    }
   ],
   "source": [
    "for c in clients :\n",
    "    print(c.logs['stringy'][99])"
   ]
  },
  {
   "cell_type": "code",
   "execution_count": 11,
   "id": "worthy-equipment",
   "metadata": {},
   "outputs": [],
   "source": [
    "accuracies = {}\n",
    "with torch.no_grad():\n",
    "    for i in clients :\n",
    "        accuracies_node = []\n",
    "        for batchno, (ex_data, ex_labels) in enumerate(test_loader) :\n",
    "            accuracies_node.append(((i.model.forward(ex_data).argmax(dim = 1) == ex_labels).float().mean()).item())\n",
    "        accuracies[i.node_id] = np.array(accuracies_node).mean()"
   ]
  },
  {
   "cell_type": "code",
   "execution_count": 12,
   "id": "severe-perspective",
   "metadata": {},
   "outputs": [
    {
     "data": {
      "text/plain": [
       "{3010: 0.9139999985694885,\n",
       " 3802: 0.9152999937534332,\n",
       " 3790: 0.9150999933481216,\n",
       " 432: 0.914999994635582,\n",
       " 2642: 0.9155000001192093,\n",
       " 2787: 0.9150000065565109}"
      ]
     },
     "execution_count": 12,
     "metadata": {},
     "output_type": "execute_result"
    }
   ],
   "source": [
    "accuracies"
   ]
  },
  {
   "cell_type": "markdown",
   "id": "found-prairie",
   "metadata": {},
   "source": [
    "Above we see the accuracy that the model at each node achieves on the held out test set."
   ]
  }
 ],
 "metadata": {
  "kernelspec": {
   "display_name": "Python 3",
   "language": "python",
   "name": "python3"
  },
  "language_info": {
   "codemirror_mode": {
    "name": "ipython",
    "version": 3
   },
   "file_extension": ".py",
   "mimetype": "text/x-python",
   "name": "python",
   "nbconvert_exporter": "python",
   "pygments_lexer": "ipython3",
   "version": "3.8.8"
  }
 },
 "nbformat": 4,
 "nbformat_minor": 5
}
